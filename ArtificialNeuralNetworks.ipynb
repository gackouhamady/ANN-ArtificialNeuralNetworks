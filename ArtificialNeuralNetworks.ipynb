{
 "cells": [
  {
   "cell_type": "markdown",
   "id": "6d35f165",
   "metadata": {},
   "source": [
    "# Nous allons créer un ANN simple pour le célèbre jeu de données Titanic extraite sur kaggle"
   ]
  },
  {
   "cell_type": "markdown",
   "id": "344a3176",
   "metadata": {},
   "source": [
    "# Auteurs :\n",
    "###  Hamady GACKOU\n",
    "###   Alassane Fofana\n",
    "###   Pascal Diarra"
   ]
  },
  {
   "cell_type": "markdown",
   "id": "f1ee8bfd",
   "metadata": {},
   "source": [
    "Maintenant que nous avons discuté de l'architecture, des avantages et des inconvénients, il est temps de créer un modèle ANN afin que nous sachions comment cela fonctionne."
   ]
  },
  {
   "cell_type": "markdown",
   "id": "0cf3a4d8",
   "metadata": {},
   "source": [
    "Pour comprendre ANN, nous utiliserions la prédiction de survie titanesque de renommée mondiale. vous pouvez trouver l'ensemble de données ici https://www.kaggle.com/jamesleslie/titanic-neural-network-for-beginners/data?select=train_clean.csv."
   ]
  },
  {
   "cell_type": "markdown",
   "id": "503d684c",
   "metadata": {},
   "source": [
    "### commençons par importer les dépendances\n"
   ]
  },
  {
   "cell_type": "code",
   "execution_count": 86,
   "id": "13cec523",
   "metadata": {},
   "outputs": [],
   "source": [
    "import numpy as np\n",
    "import pandas as pd\n",
    "import seaborn as sns\n",
    "import matplotlib.pyplot as plt\n",
    "from matplotlib.pyplot import rcParams\n",
    "%matplotlib inline\n",
    "rcParams['figure.figsize'] = 10,8\n",
    "sns.set(style='whitegrid', palette='muted',\n",
    "        rc={'figure.figsize': (15,10)})\n",
    "import os\n",
    "from sklearn.preprocessing import StandardScaler\n",
    "from sklearn.model_selection import train_test_split\n",
    "from sklearn.model_selection import GridSearchCV\n",
    "from keras.wrappers.scikit_learn import KerasClassifier\n",
    "from keras.models import Sequential\n",
    "from keras.layers import Dense, Activation, Dropout\n",
    "from numpy.random import seed\n",
    "from tensorflow.random import set_seed"
   ]
  },
  {
   "cell_type": "markdown",
   "id": "c0df34c3",
   "metadata": {},
   "source": [
    "### Une fois que nous aurons importé toutes les bibliothèques de prétraitement et de modélisation, nous lirons les données de formation et de test"
   ]
  },
  {
   "cell_type": "code",
   "execution_count": 87,
   "id": "de2eac8f",
   "metadata": {
    "scrolled": true
   },
   "outputs": [
    {
     "data": {
      "text/html": [
       "<div>\n",
       "<style scoped>\n",
       "    .dataframe tbody tr th:only-of-type {\n",
       "        vertical-align: middle;\n",
       "    }\n",
       "\n",
       "    .dataframe tbody tr th {\n",
       "        vertical-align: top;\n",
       "    }\n",
       "\n",
       "    .dataframe thead th {\n",
       "        text-align: right;\n",
       "    }\n",
       "</style>\n",
       "<table border=\"1\" class=\"dataframe\">\n",
       "  <thead>\n",
       "    <tr style=\"text-align: right;\">\n",
       "      <th></th>\n",
       "      <th>Age</th>\n",
       "      <th>Cabin</th>\n",
       "      <th>Embarked</th>\n",
       "      <th>Family_Size</th>\n",
       "      <th>Fare</th>\n",
       "      <th>Name</th>\n",
       "      <th>Parch</th>\n",
       "      <th>PassengerId</th>\n",
       "      <th>Pclass</th>\n",
       "      <th>Sex</th>\n",
       "      <th>SibSp</th>\n",
       "      <th>Survived</th>\n",
       "      <th>Ticket</th>\n",
       "      <th>Title</th>\n",
       "    </tr>\n",
       "  </thead>\n",
       "  <tbody>\n",
       "    <tr>\n",
       "      <th>0</th>\n",
       "      <td>22.0</td>\n",
       "      <td>NaN</td>\n",
       "      <td>S</td>\n",
       "      <td>1</td>\n",
       "      <td>7.2500</td>\n",
       "      <td>Braund, Mr. Owen Harris</td>\n",
       "      <td>0</td>\n",
       "      <td>1</td>\n",
       "      <td>3</td>\n",
       "      <td>male</td>\n",
       "      <td>1</td>\n",
       "      <td>0.0</td>\n",
       "      <td>A/5 21171</td>\n",
       "      <td>Mr</td>\n",
       "    </tr>\n",
       "    <tr>\n",
       "      <th>1</th>\n",
       "      <td>38.0</td>\n",
       "      <td>C85</td>\n",
       "      <td>C</td>\n",
       "      <td>1</td>\n",
       "      <td>71.2833</td>\n",
       "      <td>Cumings, Mrs. John Bradley (Florence Briggs Th...</td>\n",
       "      <td>0</td>\n",
       "      <td>2</td>\n",
       "      <td>1</td>\n",
       "      <td>female</td>\n",
       "      <td>1</td>\n",
       "      <td>1.0</td>\n",
       "      <td>PC 17599</td>\n",
       "      <td>Mrs</td>\n",
       "    </tr>\n",
       "    <tr>\n",
       "      <th>2</th>\n",
       "      <td>26.0</td>\n",
       "      <td>NaN</td>\n",
       "      <td>S</td>\n",
       "      <td>0</td>\n",
       "      <td>7.9250</td>\n",
       "      <td>Heikkinen, Miss. Laina</td>\n",
       "      <td>0</td>\n",
       "      <td>3</td>\n",
       "      <td>3</td>\n",
       "      <td>female</td>\n",
       "      <td>0</td>\n",
       "      <td>1.0</td>\n",
       "      <td>STON/O2. 3101282</td>\n",
       "      <td>Miss</td>\n",
       "    </tr>\n",
       "    <tr>\n",
       "      <th>3</th>\n",
       "      <td>35.0</td>\n",
       "      <td>C123</td>\n",
       "      <td>S</td>\n",
       "      <td>1</td>\n",
       "      <td>53.1000</td>\n",
       "      <td>Futrelle, Mrs. Jacques Heath (Lily May Peel)</td>\n",
       "      <td>0</td>\n",
       "      <td>4</td>\n",
       "      <td>1</td>\n",
       "      <td>female</td>\n",
       "      <td>1</td>\n",
       "      <td>1.0</td>\n",
       "      <td>113803</td>\n",
       "      <td>Mrs</td>\n",
       "    </tr>\n",
       "    <tr>\n",
       "      <th>4</th>\n",
       "      <td>35.0</td>\n",
       "      <td>NaN</td>\n",
       "      <td>S</td>\n",
       "      <td>0</td>\n",
       "      <td>8.0500</td>\n",
       "      <td>Allen, Mr. William Henry</td>\n",
       "      <td>0</td>\n",
       "      <td>5</td>\n",
       "      <td>3</td>\n",
       "      <td>male</td>\n",
       "      <td>0</td>\n",
       "      <td>0.0</td>\n",
       "      <td>373450</td>\n",
       "      <td>Mr</td>\n",
       "    </tr>\n",
       "  </tbody>\n",
       "</table>\n",
       "</div>"
      ],
      "text/plain": [
       "    Age Cabin Embarked  Family_Size     Fare  \\\n",
       "0  22.0   NaN        S            1   7.2500   \n",
       "1  38.0   C85        C            1  71.2833   \n",
       "2  26.0   NaN        S            0   7.9250   \n",
       "3  35.0  C123        S            1  53.1000   \n",
       "4  35.0   NaN        S            0   8.0500   \n",
       "\n",
       "                                                Name  Parch  PassengerId  \\\n",
       "0                            Braund, Mr. Owen Harris      0            1   \n",
       "1  Cumings, Mrs. John Bradley (Florence Briggs Th...      0            2   \n",
       "2                             Heikkinen, Miss. Laina      0            3   \n",
       "3       Futrelle, Mrs. Jacques Heath (Lily May Peel)      0            4   \n",
       "4                           Allen, Mr. William Henry      0            5   \n",
       "\n",
       "   Pclass     Sex  SibSp  Survived            Ticket Title  \n",
       "0       3    male      1       0.0         A/5 21171    Mr  \n",
       "1       1  female      1       1.0          PC 17599   Mrs  \n",
       "2       3  female      0       1.0  STON/O2. 3101282  Miss  \n",
       "3       1  female      1       1.0            113803   Mrs  \n",
       "4       3    male      0       0.0            373450    Mr  "
      ]
     },
     "execution_count": 87,
     "metadata": {},
     "output_type": "execute_result"
    }
   ],
   "source": [
    "# Charger les données en tant que dataframe Pandas\n",
    "train = pd.read_csv('./train_clean.csv', )\n",
    "test = pd.read_csv('./test_clean.csv')\n",
    "df = pd.concat([train, test], axis=0, sort=True)\n",
    "df.head()"
   ]
  },
  {
   "cell_type": "markdown",
   "id": "af684dd9",
   "metadata": {},
   "source": [
    "Nous avons concaténé à la fois l'apprentissage et le test CSV afin d'appliquer la même méthode de prétraitement sur les deux. une fois l'ensemble de données créé, nous commencerions à prétraiter l'ensemble de données car il comporte plusieurs colonnes qui ne sont pas des nombres. En commençant par le nom de colonne 'sex' dans l'ensemble de données, nous le convertirions en variables binaires."
   ]
  },
  {
   "cell_type": "code",
   "execution_count": 88,
   "id": "230a333a",
   "metadata": {},
   "outputs": [
    {
     "data": {
      "text/html": [
       "<div>\n",
       "<style scoped>\n",
       "    .dataframe tbody tr th:only-of-type {\n",
       "        vertical-align: middle;\n",
       "    }\n",
       "\n",
       "    .dataframe tbody tr th {\n",
       "        vertical-align: top;\n",
       "    }\n",
       "\n",
       "    .dataframe thead th {\n",
       "        text-align: right;\n",
       "    }\n",
       "</style>\n",
       "<table border=\"1\" class=\"dataframe\">\n",
       "  <thead>\n",
       "    <tr style=\"text-align: right;\">\n",
       "      <th></th>\n",
       "      <th>Age</th>\n",
       "      <th>Family_Size</th>\n",
       "      <th>Fare</th>\n",
       "      <th>Parch</th>\n",
       "      <th>Pclass</th>\n",
       "      <th>Sex</th>\n",
       "      <th>SibSp</th>\n",
       "      <th>Survived</th>\n",
       "      <th>Embarked_C</th>\n",
       "      <th>Embarked_Q</th>\n",
       "      <th>Embarked_S</th>\n",
       "      <th>Title_Dr</th>\n",
       "      <th>Title_Master</th>\n",
       "      <th>Title_Miss</th>\n",
       "      <th>Title_Mr</th>\n",
       "      <th>Title_Mrs</th>\n",
       "      <th>Title_Rev</th>\n",
       "    </tr>\n",
       "  </thead>\n",
       "  <tbody>\n",
       "    <tr>\n",
       "      <th>0</th>\n",
       "      <td>22.0</td>\n",
       "      <td>1</td>\n",
       "      <td>7.2500</td>\n",
       "      <td>0</td>\n",
       "      <td>3</td>\n",
       "      <td>1</td>\n",
       "      <td>1</td>\n",
       "      <td>0.0</td>\n",
       "      <td>0</td>\n",
       "      <td>0</td>\n",
       "      <td>1</td>\n",
       "      <td>0</td>\n",
       "      <td>0</td>\n",
       "      <td>0</td>\n",
       "      <td>1</td>\n",
       "      <td>0</td>\n",
       "      <td>0</td>\n",
       "    </tr>\n",
       "    <tr>\n",
       "      <th>1</th>\n",
       "      <td>38.0</td>\n",
       "      <td>1</td>\n",
       "      <td>71.2833</td>\n",
       "      <td>0</td>\n",
       "      <td>1</td>\n",
       "      <td>0</td>\n",
       "      <td>1</td>\n",
       "      <td>1.0</td>\n",
       "      <td>1</td>\n",
       "      <td>0</td>\n",
       "      <td>0</td>\n",
       "      <td>0</td>\n",
       "      <td>0</td>\n",
       "      <td>0</td>\n",
       "      <td>0</td>\n",
       "      <td>1</td>\n",
       "      <td>0</td>\n",
       "    </tr>\n",
       "    <tr>\n",
       "      <th>2</th>\n",
       "      <td>26.0</td>\n",
       "      <td>0</td>\n",
       "      <td>7.9250</td>\n",
       "      <td>0</td>\n",
       "      <td>3</td>\n",
       "      <td>0</td>\n",
       "      <td>0</td>\n",
       "      <td>1.0</td>\n",
       "      <td>0</td>\n",
       "      <td>0</td>\n",
       "      <td>1</td>\n",
       "      <td>0</td>\n",
       "      <td>0</td>\n",
       "      <td>1</td>\n",
       "      <td>0</td>\n",
       "      <td>0</td>\n",
       "      <td>0</td>\n",
       "    </tr>\n",
       "    <tr>\n",
       "      <th>3</th>\n",
       "      <td>35.0</td>\n",
       "      <td>1</td>\n",
       "      <td>53.1000</td>\n",
       "      <td>0</td>\n",
       "      <td>1</td>\n",
       "      <td>0</td>\n",
       "      <td>1</td>\n",
       "      <td>1.0</td>\n",
       "      <td>0</td>\n",
       "      <td>0</td>\n",
       "      <td>1</td>\n",
       "      <td>0</td>\n",
       "      <td>0</td>\n",
       "      <td>0</td>\n",
       "      <td>0</td>\n",
       "      <td>1</td>\n",
       "      <td>0</td>\n",
       "    </tr>\n",
       "    <tr>\n",
       "      <th>4</th>\n",
       "      <td>35.0</td>\n",
       "      <td>0</td>\n",
       "      <td>8.0500</td>\n",
       "      <td>0</td>\n",
       "      <td>3</td>\n",
       "      <td>1</td>\n",
       "      <td>0</td>\n",
       "      <td>0.0</td>\n",
       "      <td>0</td>\n",
       "      <td>0</td>\n",
       "      <td>1</td>\n",
       "      <td>0</td>\n",
       "      <td>0</td>\n",
       "      <td>0</td>\n",
       "      <td>1</td>\n",
       "      <td>0</td>\n",
       "      <td>0</td>\n",
       "    </tr>\n",
       "  </tbody>\n",
       "</table>\n",
       "</div>"
      ],
      "text/plain": [
       "    Age  Family_Size     Fare  Parch  Pclass  Sex  SibSp  Survived  \\\n",
       "0  22.0            1   7.2500      0       3    1      1       0.0   \n",
       "1  38.0            1  71.2833      0       1    0      1       1.0   \n",
       "2  26.0            0   7.9250      0       3    0      0       1.0   \n",
       "3  35.0            1  53.1000      0       1    0      1       1.0   \n",
       "4  35.0            0   8.0500      0       3    1      0       0.0   \n",
       "\n",
       "   Embarked_C  Embarked_Q  Embarked_S  Title_Dr  Title_Master  Title_Miss  \\\n",
       "0           0           0           1         0             0           0   \n",
       "1           1           0           0         0             0           0   \n",
       "2           0           0           1         0             0           1   \n",
       "3           0           0           1         0             0           0   \n",
       "4           0           0           1         0             0           0   \n",
       "\n",
       "   Title_Mr  Title_Mrs  Title_Rev  \n",
       "0         1          0          0  \n",
       "1         0          1          0  \n",
       "2         0          0          0  \n",
       "3         0          1          0  \n",
       "4         1          0          0  "
      ]
     },
     "execution_count": 88,
     "metadata": {},
     "output_type": "execute_result"
    }
   ],
   "source": [
    "# convertir en catégorie dtype\n",
    "df['Sex'] = df['Sex'].astype('category')\n",
    "# convert to category codes\n",
    "df['Sex'] = df['Sex'].cat.codes\n",
    "\n",
    "# Après cela, nous devons convertir le reste des variables :\n",
    "categorical = ['Embarked', 'Title']\n",
    "for var in categorical:\n",
    "    df = pd.concat([df, \n",
    "                    pd.get_dummies(df[var], prefix=var)], axis=1)\n",
    "    del df[var]\n",
    "# drop the variables we won't be using\n",
    "df.drop(['Cabin', 'Name', 'Ticket', 'PassengerId'], axis=1, inplace=True)\n",
    "df.head()\n",
    "\n",
    "\n",
    "\n",
    "\n",
    "\n",
    "\n",
    "\n",
    "\n",
    "\n",
    "\n",
    "\n",
    "\n"
   ]
  },
  {
   "cell_type": "markdown",
   "id": "701ee6d7",
   "metadata": {},
   "source": [
    "## Mise en échelle (Normalisation)"
   ]
  },
  {
   "cell_type": "code",
   "execution_count": 89,
   "id": "092be500",
   "metadata": {},
   "outputs": [],
   "source": [
    "continuous = ['Age', 'Fare', 'Parch', 'Pclass', 'SibSp', 'Family_Size']\n",
    "scaler = StandardScaler()\n",
    "for var in continuous:\n",
    "    df[var] = df[var].astype('float64')\n",
    "    df[var] = scaler.fit_transform(df[var].values.reshape(-1, 1))"
   ]
  },
  {
   "cell_type": "markdown",
   "id": "e131d7b2",
   "metadata": {},
   "source": [
    "Une fois le prétraitement terminé, nous devons diviser le train et tester à nouveau l'ensemble de données, pour cela, vous pouvez utiliser le code suivant."
   ]
  },
  {
   "cell_type": "code",
   "execution_count": 90,
   "id": "cfe3a912",
   "metadata": {},
   "outputs": [],
   "source": [
    "X_train = df[pd.notnull(df['Survived'])].drop(['Survived'], axis=1)\n",
    "y_train = df[pd.notnull(df['Survived'])]['Survived']\n",
    "X_test = df[pd.isnull(df['Survived'])].drop(['Survived'], axis=1)"
   ]
  },
  {
   "cell_type": "markdown",
   "id": "942378d1",
   "metadata": {},
   "source": [
    "## Il est maintenant temps de définir les hyperparamètres et de définir l'architecture du modèle ANN."
   ]
  },
  {
   "cell_type": "code",
   "execution_count": 91,
   "id": "abe4c24d",
   "metadata": {},
   "outputs": [
    {
     "name": "stdout",
     "output_type": "stream",
     "text": [
      "Model: \"sequential_6\"\n",
      "_________________________________________________________________\n",
      " Layer (type)                Output Shape              Param #   \n",
      "=================================================================\n",
      " dense_12 (Dense)            (None, 8)                 136       \n",
      "                                                                 \n",
      " dropout_6 (Dropout)         (None, 8)                 0         \n",
      "                                                                 \n",
      " dense_13 (Dense)            (None, 1)                 9         \n",
      "                                                                 \n",
      "=================================================================\n",
      "Total params: 145\n",
      "Trainable params: 145\n",
      "Non-trainable params: 0\n",
      "_________________________________________________________________\n",
      "None\n"
     ]
    }
   ],
   "source": [
    "lyrs=[8]\n",
    "act='linear' \n",
    "opt='Adam'\n",
    "dr=0.0\n",
    "# set random seed for reproducibility\n",
    "seed(42)\n",
    "set_seed(42)\n",
    "model = Sequential()\n",
    "# create first hidden layer\n",
    "model.add(Dense(lyrs[0], input_dim=X_train.shape[1], activation=act))\n",
    "# create additional hidden layers\n",
    "for i in range(1,len(lyrs)):\n",
    "    model.add(Dense(lyrs[i], activation=act))\n",
    "# add dropout, default is none\n",
    "model.add(Dropout(dr))\n",
    "# create output layer\n",
    "model.add(Dense(1, activation='sigmoid'))  # output layer\n",
    "model.compile(loss='binary_crossentropy', optimizer=opt, metrics=['accuracy'])\n",
    "print(model.summary())"
   ]
  },
  {
   "cell_type": "markdown",
   "id": "eac9c4e2",
   "metadata": {},
   "source": [
    "### Après la définition du modèle, nous ajusterons le modèle sur nos données d'entraînement et obtiendrons l'aperçu du modèle."
   ]
  },
  {
   "cell_type": "code",
   "execution_count": 92,
   "id": "8f4be04a",
   "metadata": {},
   "outputs": [
    {
     "name": "stdout",
     "output_type": "stream",
     "text": [
      "nval_acc: 81.14%\n"
     ]
    },
    {
     "data": {
      "image/png": "[encoded data removed]",
      "text/plain": [
       "<Figure size 1080x720 with 1 Axes>"
      ]
     },
     "metadata": {},
     "output_type": "display_data"
    }
   ],
   "source": [
    "training = model.fit(X_train, y_train, epochs=100, batch_size=32, validation_split=0.2, verbose=0)\n",
    "val_acc = np.mean(training.history['accuracy'])\n",
    "print(\"n%s: %.2f%%\" % ('val_acc', val_acc*100))\n",
    "# summarize history for accuracy\n",
    "plt.plot(training.history['accuracy'])\n",
    "plt.title('model accuracy')\n",
    "plt.ylabel('accuracy')\n",
    "plt.xlabel('epoch')\n",
    "plt.legend(['train', 'validation'], loc='upper left')\n",
    "plt.show()"
   ]
  },
  {
   "cell_type": "markdown",
   "id": "da2615fa",
   "metadata": {},
   "source": [
    "#### Vous pouvez maintenant utiliser le modèle pour les prédictions sur les données de test, en utilisant le bloc de code suivant :"
   ]
  },
  {
   "cell_type": "code",
   "execution_count": 93,
   "id": "f56ac0f4",
   "metadata": {},
   "outputs": [
    {
     "name": "stdout",
     "output_type": "stream",
     "text": [
      "14/14 [==============================] - 1s 8ms/step\n",
      "     PassengerId  Survived\n",
      "0            892         0\n",
      "1            893         1\n",
      "2            894         0\n",
      "3            895         0\n",
      "4            896         1\n",
      "..           ...       ...\n",
      "413         1305         0\n",
      "414         1306         1\n",
      "415         1307         0\n",
      "416         1308         0\n",
      "417         1309         1\n",
      "\n",
      "[418 rows x 2 columns]\n"
     ]
    }
   ],
   "source": [
    "# calculate predictions\n",
    "test['Survived'] = model.predict(X_test)\n",
    "test['Survived'] = test['Survived'].apply(lambda x: round(x,0)).astype('int')\n",
    "solution = test[['PassengerId', 'Survived']]\n",
    "print(solution)"
   ]
  },
  {
   "cell_type": "markdown",
   "id": "b52c512e",
   "metadata": {},
   "source": [
    "#                                 THank you for very much for reading"
   ]
  },
  {
   "cell_type": "code",
   "execution_count": null,
   "id": "68865a04",
   "metadata": {},
   "outputs": [],
   "source": []
  }
 ],
 "metadata": {
  "kernelspec": {
   "display_name": "Python 3 (ipykernel)",
   "language": "python",
   "name": "python3"
  },
  "language_info": {
   "codemirror_mode": {
    "name": "ipython",
    "version": 3
   },
   "file_extension": ".py",
   "mimetype": "text/x-python",
   "name": "python",
   "nbconvert_exporter": "python",
   "pygments_lexer": "ipython3",
   "version": "3.9.7"
  }
 },
 "nbformat": 4,
 "nbformat_minor": 5
}
